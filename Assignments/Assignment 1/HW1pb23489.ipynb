{
 "cells": [
  {
   "cell_type": "markdown",
   "metadata": {},
   "source": [
    "# UFO report by pb23489\n",
    "Modify this cell by placing your eid in the space above. "
   ]
  },
  {
   "cell_type": "markdown",
   "metadata": {},
   "source": [
    "## Homework 1\n",
    "<p>You are a UFO researcher and have just obtained some **TOP SECRET** government data. The data contain sighting information including location, shape and source of the information. Use your pandas skills to investigate the data. Turn in this notebook as your report. Follow the directions and answer the questions. Edit the code cells to create pandas solutions to the questions. The first cell loads the data into a data frame called sightings. The rest is up to you. You have one week to complete your report. </p>\n",
    "<p>The truth is out there...</p>"
   ]
  },
  {
   "cell_type": "code",
   "execution_count": 1,
   "metadata": {},
   "outputs": [],
   "source": [
    "# this cell loads the ufo data it should be in the same directory as this notebook\n",
    "import pandas as pd\n",
    "import matplotlib.pyplot as plt\n",
    "#\n",
    "filename = 'ufo_location_shape.csv'\n",
    "sightings = pd.read_csv(filename)"
   ]
  },
  {
   "cell_type": "markdown",
   "metadata": {},
   "source": [
    "### Question 1\n",
    "<p>How large is the data? How many rows and columns are there? What are the column names or keys?Use the cell below to create python code that prints the answer to the question</p>\n",
    "This question is worth 1 pt."
   ]
  },
  {
   "cell_type": "code",
   "execution_count": 2,
   "metadata": {},
   "outputs": [
    {
     "name": "stdout",
     "output_type": "stream",
     "text": [
      "How large is the data?\n",
      "25522\n",
      "\n",
      "How many rows and columns are there?\n",
      "Number of rows: 3646\n",
      "Number of columns: 7\n",
      "\n",
      "What are the column names or keys?\n",
      "Event.Date\n",
      "Shape\n",
      "Location\n",
      "State\n",
      "Country\n",
      "Source\n",
      "USA\n"
     ]
    }
   ],
   "source": [
    "#How large is the data?\n",
    "print(\"How large is the data?\")\n",
    "size = sightings.size\n",
    "print(size)\n",
    "print()\n",
    "\n",
    "#How many rows and columns are there?\n",
    "print(\"How many rows and columns are there?\")\n",
    "rows = sightings.shape[0]\n",
    "columns = sightings.shape[1]\n",
    "print(\"Number of rows:\", rows)\n",
    "print(\"Number of columns:\", columns)\n",
    "print()\n",
    "\n",
    "#What are the column names or keys?\n",
    "print(\"What are the column names or keys?\")\n",
    "for col in sightings.columns:\n",
    "    print(col)"
   ]
  },
  {
   "cell_type": "markdown",
   "metadata": {},
   "source": [
    "### Question 2\n",
    "<p> List the countries where sightings occurred. For sightings which occurred in the U.S. list the states where sightings occurred.</p> This question is worth 1 pt"
   ]
  },
  {
   "cell_type": "code",
   "execution_count": 3,
   "metadata": {},
   "outputs": [
    {
     "name": "stdout",
     "output_type": "stream",
     "text": [
      "List the countries where sightings occurred.\n",
      "USA \n",
      "Canada \n",
      "India \n",
      "Norway \n",
      "Wales/UK \n",
      "China \n",
      "England/UK \n",
      "nan\n",
      "Philippines \n",
      "Iran \n",
      "Unknown \n",
      "Mauritius \n",
      "Australia \n",
      "Dominican Republic \n",
      "Gibralter \n",
      "New Zealand \n",
      "South Africa \n",
      "Kenya \n",
      "Israel \n",
      "Japan \n",
      "Mexico \n",
      "Netherlands \n",
      "Puerto Rico \n",
      "Lithuania \n",
      "Indonesia \n",
      "Portugal \n",
      "Ireland \n",
      "Thailand \n",
      "Brazil \n",
      "Chile \n",
      "Cambodia \n",
      "Pakistan \n",
      "The Bahamas (Bermuda triangle) \n",
      "Sweden \n",
      "Finland \n",
      "Turkey \n",
      "Italy \n",
      "Croatia \n",
      "Argentina \n",
      "Spain \n",
      "South Australia \n",
      "Germany \n",
      "Tonga \n",
      "\n",
      "For sightings which occurred in the U.S. list the states where sightings occurred.\n",
      "IL \n",
      "ID \n",
      "WA \n",
      "CA \n",
      "MO \n",
      "FL \n",
      "UT \n",
      "MD \n",
      "DC \n",
      "AZ \n",
      "MN \n",
      "NM \n",
      "NY \n",
      "CO \n",
      "IA \n",
      "NJ \n",
      "LA \n",
      "OR \n",
      "AR \n",
      "OH \n",
      "SC \n",
      "HI \n",
      "KY \n",
      "ON \n",
      "MB \n",
      "nan\n",
      "NC \n",
      "PA \n",
      "IN \n",
      "MS \n",
      "MA \n",
      "VA \n",
      "RI \n",
      "NV \n",
      "ME \n",
      "GA \n",
      "AL \n",
      "TX \n",
      "WI \n",
      "NH \n",
      "MT \n",
      "AK \n",
      "TN \n",
      "ND \n",
      "QC \n",
      "MI \n",
      "CT \n",
      "KS \n",
      "SD \n",
      "NE \n",
      "DE \n",
      "OK \n",
      "VT \n",
      "?? \n",
      "WY \n",
      "BC \n",
      "AB \n",
      "England/UK \n",
      "WV \n",
      "NB \n",
      "NS \n",
      "SK \n"
     ]
    }
   ],
   "source": [
    "#List the countries where sightings occurred.\n",
    "print(\"List the countries where sightings occurred.\")\n",
    "for countries in sightings.Country.unique():\n",
    "    print(countries)\n",
    "print()\n",
    "\n",
    "#For sightings which occurred in the U.S. list the states where sightings occurred.\n",
    "print(\"For sightings which occurred in the U.S. list the states where sightings occurred.\")\n",
    "for state in sightings.State.unique():\n",
    "    print(state)\n",
    "\n",
    "#This prints all states uniquely that occured in the datasheet."
   ]
  },
  {
   "cell_type": "markdown",
   "metadata": {},
   "source": [
    "### Question 3\n",
    "<p>List the different observed UFO shapes. </p> This question is worth 1 pt"
   ]
  },
  {
   "cell_type": "code",
   "execution_count": 4,
   "metadata": {},
   "outputs": [
    {
     "name": "stdout",
     "output_type": "stream",
     "text": [
      "List the different observed UFO shapes:\n",
      "Boomerang/V-Shaped \n",
      "Cigar/Cylinder \n",
      "Circle \n",
      "Cone \n",
      "Cross \n",
      "Diamond \n",
      "Disk \n",
      "Egg \n",
      "Fireball \n",
      "Lights Only \n",
      "Missile/Rocket \n",
      "Orb/Sphere \n",
      "Other \n",
      "Oval \n",
      "Pyramid \n",
      "Rectangle \n",
      "Sphere \n",
      "Square \n",
      "Teardrop \n",
      "Triangle \n",
      "Unknown \n"
     ]
    }
   ],
   "source": [
    "print(\"List the different observed UFO shapes:\")\n",
    "for dif in sightings.Shape.unique():\n",
    "    print(dif)"
   ]
  },
  {
   "cell_type": "markdown",
   "metadata": {},
   "source": [
    "### Question 4\n",
    "<p>Create a bar chart showing the number of sightings in each country. The x axis should be country and the y axis should be number of sightings. </p> This question is worth 3 points."
   ]
  },
  {
   "cell_type": "code",
   "execution_count": 5,
   "metadata": {},
   "outputs": [
    {
     "data": {
      "text/plain": [
       "<matplotlib.axes._subplots.AxesSubplot at 0x20de981aec8>"
      ]
     },
     "execution_count": 5,
     "metadata": {},
     "output_type": "execute_result"
    },
    {
     "data": {
      "image/png": "[encoded data removed]",
      "text/plain": [
       "<Figure size 432x288 with 1 Axes>"
      ]
     },
     "metadata": {
      "needs_background": "light"
     },
     "output_type": "display_data"
    }
   ],
   "source": [
    "sightingsBar = sightings[\"Country\"].value_counts()\n",
    "sightingsBar.plot.bar()"
   ]
  },
  {
   "cell_type": "markdown",
   "metadata": {},
   "source": [
    "### Question 5\n",
    "<p>Create a stacked bar chart showing the UFO shape for the ten states with the highest number of sightings. Find the ten states with the highest number of sightings. Then for each state plot a stacked bar where each color of the stack corresponds to the number of sightings in that state for a particular UFO shape</p> This question is worth 4 points."
   ]
  },
  {
   "cell_type": "code",
   "execution_count": 57,
   "metadata": {},
   "outputs": [
    {
     "name": "stdout",
     "output_type": "stream",
     "text": [
      "Find the ten states with the highest number of sightings.\n",
      "CA     357\n",
      "FL     266\n",
      "AZ     174\n",
      "WA     161\n",
      "NY     145\n",
      "NC     132\n",
      "PA     126\n",
      "CO     125\n",
      "IL     111\n",
      "OR     104\n",
      "Name: State, dtype: int64\n",
      "\n"
     ]
    },
    {
     "data": {
      "text/plain": [
       "<matplotlib.axes._subplots.AxesSubplot at 0x20df7da73c8>"
      ]
     },
     "execution_count": 57,
     "metadata": {},
     "output_type": "execute_result"
    },
    {
     "data": {
      "image/png": "[encoded data removed]",
      "text/plain": [
       "<Figure size 432x288 with 1 Axes>"
      ]
     },
     "metadata": {
      "needs_background": "light"
     },
     "output_type": "display_data"
    }
   ],
   "source": [
    "#Find the ten states with the highest number of sightings.\n",
    "#Y = Number of sightings, X = State, Color = Type\n",
    "print(\"Find the ten states with the highest number of sightings.\")\n",
    "sortd = sightings[\"State\"].value_counts()\n",
    "topTen = sortd.head(10)\n",
    "print(topTen)\n",
    "print()\n",
    "test = pd.DataFrame()\n",
    "\n",
    "#Stacked bar graph\n",
    "sightings.groupby([\"State\",\"Shape\"]).size().unstack().sort_values(\"State\", ascending = True)[:10].plot(kind=\"bar\",stacked=True)\n",
    "\n",
    "#I am not sure how to actually sort by the values of the most sightings, I've tried every possibly input for where I have\n",
    "#sort_values(\"State\",ascending = True)[:10]\n",
    "#I know that I need to be sorting by the number of sightings from most which is CA with 357 and least of the top 10 which is\n",
    "#OR with 104, I just don't know what to say in order to say to sort_values(by=). I've trie \"State\", \n",
    "#\"sighting[State].value_counts()\", [\"State\"].values(). I've tried researching sort_values and values and just unable to come\n",
    "#up with what word I place there to sort it correctly. I understand if I get points off for this assignment, I'm just \n",
    "#dissapointed that it will be because I don't know what to input for the information, but not knowing what the material\n",
    "#is trying to have me answer."
   ]
  },
  {
   "cell_type": "code",
   "execution_count": null,
   "metadata": {},
   "outputs": [],
   "source": []
  }
 ],
 "metadata": {
  "kernelspec": {
   "display_name": "Python 3",
   "language": "python",
   "name": "python3"
  },
  "language_info": {
   "codemirror_mode": {
    "name": "ipython",
    "version": 3
   },
   "file_extension": ".py",
   "mimetype": "text/x-python",
   "name": "python",
   "nbconvert_exporter": "python",
   "pygments_lexer": "ipython3",
   "version": "3.7.4"
  }
 },
 "nbformat": 4,
 "nbformat_minor": 2
}
