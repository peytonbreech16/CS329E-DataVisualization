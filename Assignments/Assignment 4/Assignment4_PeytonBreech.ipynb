{
 "cells": [
  {
   "cell_type": "code",
   "execution_count": 56,
   "metadata": {},
   "outputs": [
    {
     "name": "stdout",
     "output_type": "stream",
     "text": [
      "<bound method NDFrame.head of       OBJECTID      Province_S Country_Re                Last_Updat  \\\n",
      "0            1  South Carolina         US  2020-04-09T12:19:07.000Z   \n",
      "1            2       Louisiana         US  2020-04-09T12:19:07.000Z   \n",
      "2            3        Virginia         US  2020-04-09T12:19:07.000Z   \n",
      "3            4           Idaho         US  2020-04-09T12:19:07.000Z   \n",
      "4            5            Iowa         US  2020-04-09T12:19:07.000Z   \n",
      "...        ...             ...        ...                       ...   \n",
      "2622      2623      California         US  2020-04-09T12:19:07.000Z   \n",
      "2623      2624          Alaska         US  2020-04-09T12:19:07.000Z   \n",
      "2624      2625         Arizona         US  2020-04-09T12:19:07.000Z   \n",
      "2625      2626        Colorado         US  2020-04-09T12:19:07.000Z   \n",
      "2626      2627           Texas         US  2020-04-09T12:19:07.000Z   \n",
      "\n",
      "            Lat       Long_  Confirmed  Recovered  Deaths  Active  \\\n",
      "0     34.223334  -82.461707          6          0       0       0   \n",
      "1     30.295065  -92.414197         86          0       2       0   \n",
      "2     37.767072  -75.632346         11          0       0       0   \n",
      "3     43.452658 -116.241552        447          0       5       0   \n",
      "4     41.330756  -94.471059          1          0       0       0   \n",
      "...         ...         ...        ...        ...     ...     ...   \n",
      "2622  39.262559 -121.353564         15          0       0       0   \n",
      "2623  65.508155 -151.390739          1          0       0       0   \n",
      "2624  32.768957 -113.906667         14          0       0       0   \n",
      "2625  40.003468 -102.425867          2          0       0       0   \n",
      "2626  27.001564  -99.169872          1          0       0       0   \n",
      "\n",
      "             Admin2   FIPS                     Combined_K Incident_R  \\\n",
      "0         Abbeville  45001  Abbeville, South Carolina, US       None   \n",
      "1            Acadia  22001          Acadia, Louisiana, US       None   \n",
      "2          Accomack  51001         Accomack, Virginia, US       None   \n",
      "3               Ada  16001                 Ada, Idaho, US       None   \n",
      "4             Adair  19001                Adair, Iowa, US       None   \n",
      "...             ...    ...                            ...        ...   \n",
      "2622           Yuba  06115           Yuba, California, US       None   \n",
      "2623  Yukon-Koyukuk  02290      Yukon-Koyukuk, Alaska, US       None   \n",
      "2624           Yuma  04027              Yuma, Arizona, US       None   \n",
      "2625           Yuma  08125             Yuma, Colorado, US       None   \n",
      "2626         Zapata  48505              Zapata, Texas, US       None   \n",
      "\n",
      "     People_Tes                     geometry  \n",
      "0          None   POINT (-82.46171 34.22333)  \n",
      "1          None   POINT (-92.41420 30.29506)  \n",
      "2          None   POINT (-75.63235 37.76707)  \n",
      "3          None  POINT (-116.24155 43.45266)  \n",
      "4          None   POINT (-94.47106 41.33076)  \n",
      "...         ...                          ...  \n",
      "2622       None  POINT (-121.35356 39.26256)  \n",
      "2623       None  POINT (-151.39074 65.50815)  \n",
      "2624       None  POINT (-113.90667 32.76896)  \n",
      "2625       None  POINT (-102.42587 40.00347)  \n",
      "2626       None   POINT (-99.16987 27.00156)  \n",
      "\n",
      "[2627 rows x 16 columns]>\n"
     ]
    },
    {
     "data": {
      "application/vnd.jupyter.widget-view+json": {
       "model_id": "decd41d69b654895a1f20673505ac057",
       "version_major": 2,
       "version_minor": 0
      },
      "text/plain": [
       "Map(center=[43, -100], controls=(ZoomControl(options=['position', 'zoom_in_text', 'zoom_in_title', 'zoom_out_t…"
      ]
     },
     "metadata": {},
     "output_type": "display_data"
    }
   ],
   "source": [
    "import ipyleaflet\n",
    "import json\n",
    "import pandas as pd\n",
    "import os\n",
    "import requests\n",
    "import geopandas as gpd\n",
    "from ipywidgets import link, FloatSlider\n",
    "from branca.colormap import linear\n",
    "\n",
    "def load_data(url, filename, file_type):\n",
    "    r = requests.get(url)\n",
    "    with open(filename, 'w') as f:\n",
    "        f.write(r.content.decode(\"utf-8\"))\n",
    "    with open(filename, 'r') as f:\n",
    "        return file_type(f)\n",
    "\n",
    "geo_json_data = load_data(\n",
    "    'https://raw.githubusercontent.com/jupyter-widgets/ipyleaflet/master/examples/us-states.json',\n",
    "    'us-states.json',\n",
    "     json.load)\n",
    "\n",
    "covid = gpd.read_file('COVID19_Cases_US/COVID19_Cases_US.shp')\n",
    "\n",
    "covid.drop([0,1],axis=0)\n",
    "print(covid.head)\n",
    "\n",
    "covid.to_file(\"covid.geojson\", driver='GeoJSON')\n",
    "with open('covid.geojson', 'r') as f:\n",
    "    data = json.load(f)\n",
    "#for feature in data['features']:\n",
    "    #print(feature['properties'])\n",
    "\n",
    "\n",
    "layer = ipyleaflet.Choropleth(\n",
    "    geo_data=geo_json_data,\n",
    "    choro_data=unemployment,\n",
    "    colormap=linear.YlOrRd_04,\n",
    "    border_color='black',\n",
    "    style={'fillOpacity': 0.8, 'dashArray': '5, 5'})\n",
    "\n",
    "m = ipyleaflet.Map(center = (43,-100), zoom = 4)\n",
    "m.add_layer(layer)\n",
    "m"
   ]
  },
  {
   "cell_type": "code",
   "execution_count": null,
   "metadata": {},
   "outputs": [],
   "source": []
  }
 ],
 "metadata": {
  "kernelspec": {
   "display_name": "Python 3",
   "language": "python",
   "name": "python3"
  },
  "language_info": {
   "codemirror_mode": {
    "name": "ipython",
    "version": 3
   },
   "file_extension": ".py",
   "mimetype": "text/x-python",
   "name": "python",
   "nbconvert_exporter": "python",
   "pygments_lexer": "ipython3",
   "version": "3.7.4"
  }
 },
 "nbformat": 4,
 "nbformat_minor": 2
}
