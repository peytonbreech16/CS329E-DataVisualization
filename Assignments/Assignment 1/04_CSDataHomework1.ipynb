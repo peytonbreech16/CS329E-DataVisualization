{
 "cells": [
  {
   "cell_type": "markdown",
   "metadata": {},
   "source": [
    "# UFO report by pb23489\n",
    "Modify this cell by placing your eid in the space above. "
   ]
  },
  {
   "cell_type": "markdown",
   "metadata": {},
   "source": [
    "## Homework 1\n",
    "<p>You are a UFO researcher and have just obtained some **TOP SECRET** government data. The data contain sighting information including location, shape and source of the information. Use your pandas skills to investigate the data. Turn in this notebook as your report. Follow the directions and answer the questions. Edit the code cells to create pandas solutions to the questions. The first cell loads the data into a data frame called sightings. The rest is up to you. You have one week to complete your report. </p>\n",
    "<p>The truth is out there...</p>"
   ]
  },
  {
   "cell_type": "code",
   "execution_count": 4,
   "metadata": {},
   "outputs": [],
   "source": [
    "# this cell loads the ufo data it should be in the same directory as this notebook\n",
    "import pandas as pd\n",
    "import matplotlib.pyplot as plt\n",
    "#\n",
    "filename = 'ufo_location_shape.csv'\n",
    "sightings = pd.read_csv(filename)"
   ]
  },
  {
   "cell_type": "markdown",
   "metadata": {},
   "source": [
    "### Question 1\n",
    "<p>How large is the data? How many rows and columns are there? What are the column names or keys?Use the cell below to create python code that prints the answer to the question</p>\n",
    "This question is worth 1 pt."
   ]
  },
  {
   "cell_type": "code",
   "execution_count": null,
   "metadata": {},
   "outputs": [],
   "source": []
  },
  {
   "cell_type": "markdown",
   "metadata": {},
   "source": [
    "### Question 2\n",
    "<p> List the countries where sightings occurred. For sightings which occurred in the U.S. list the states where sightings occurred.</p> This question is worth 1 pt"
   ]
  },
  {
   "cell_type": "code",
   "execution_count": null,
   "metadata": {},
   "outputs": [],
   "source": []
  },
  {
   "cell_type": "markdown",
   "metadata": {},
   "source": [
    "### Question 3\n",
    "<p>List the different observed UFO shapes. </p> This question is worth 1 pt"
   ]
  },
  {
   "cell_type": "code",
   "execution_count": null,
   "metadata": {},
   "outputs": [],
   "source": []
  },
  {
   "cell_type": "markdown",
   "metadata": {},
   "source": [
    "### Question 4\n",
    "<p>Create a bar chart showing the number of sightings in each country. The x axis should be country and the y axis should be number of sightings. </p> This question is worth 3 points."
   ]
  },
  {
   "cell_type": "code",
   "execution_count": null,
   "metadata": {},
   "outputs": [],
   "source": []
  },
  {
   "cell_type": "markdown",
   "metadata": {},
   "source": [
    "### Question 5\n",
    "<p>Create a stacked bar chart showing the UFO shape for the ten states with the highest number of sightings. Find the ten states with the highest number of sightings. Then for each state plot a stacked bar where each color of the stack corresponds to the number of sightings in that state for a particular UFO shape</p> This question is worth 4 points."
   ]
  },
  {
   "cell_type": "code",
   "execution_count": null,
   "metadata": {},
   "outputs": [],
   "source": []
  }
 ],
 "metadata": {
  "kernelspec": {
   "display_name": "Python 3",
   "language": "python",
   "name": "python3"
  },
  "language_info": {
   "codemirror_mode": {
    "name": "ipython",
    "version": 3
   },
   "file_extension": ".py",
   "mimetype": "text/x-python",
   "name": "python",
   "nbconvert_exporter": "python",
   "pygments_lexer": "ipython3",
   "version": "3.7.4"
  }
 },
 "nbformat": 4,
 "nbformat_minor": 2
}
