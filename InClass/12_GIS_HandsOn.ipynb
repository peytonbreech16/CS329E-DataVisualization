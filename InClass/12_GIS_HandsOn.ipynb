{
 "cells": [
  {
   "cell_type": "code",
   "execution_count": 1,
   "metadata": {},
   "outputs": [],
   "source": [
    "# please install ipyleaflet like this in your terminal: sudo pip3 install ipyleaflet"
   ]
  },
  {
   "cell_type": "code",
   "execution_count": 2,
   "metadata": {},
   "outputs": [
    {
     "data": {
      "application/vnd.jupyter.widget-view+json": {
       "model_id": "0e83ea4d12eb4cb68e422b68e1b3cfab",
       "version_major": 2,
       "version_minor": 0
      },
      "text/plain": [
       "Map(center=[30.266666, -97.73333], controls=(ZoomControl(options=['position', 'zoom_in_text', 'zoom_in_title',…"
      ]
     },
     "metadata": {},
     "output_type": "display_data"
    }
   ],
   "source": [
    "from ipyleaflet import Map, Marker\n",
    "center = (30.266666, -97.733330) # Austin coordinates 30.2672° N, 97.7431° W\n",
    "zoom =6\n",
    "m = Map(center=center, zoom=zoom)\n",
    "marker = Marker(location=center, draggable=True)\n",
    "m.add_layer(marker);\n",
    "display(m)\n",
    "# Now that the marker is on the Map, you can drag it with your mouse,\n",
    "# it will automatically update the `marker.location` attribute in Python\n",
    "# You can also update the marker location from Python, that will update the\n",
    "# marker location on the Map:\n",
    "#marker.location = (50, 356)"
   ]
  },
  {
   "cell_type": "code",
   "execution_count": 3,
   "metadata": {},
   "outputs": [
    {
     "data": {
      "text/plain": [
       "[30.266666, -97.73333]"
      ]
     },
     "execution_count": 3,
     "metadata": {},
     "output_type": "execute_result"
    }
   ],
   "source": [
    "marker.location"
   ]
  },
  {
   "cell_type": "markdown",
   "metadata": {},
   "source": [
    "## Creating a TileLayer \n",
    "A dictionary containing basic tile layers is provided. This dictionary is named basemaps."
   ]
  },
  {
   "cell_type": "code",
   "execution_count": 4,
   "metadata": {},
   "outputs": [
    {
     "data": {
      "application/vnd.jupyter.widget-view+json": {
       "model_id": "0c19f25c7e1147c99b091ec1aaeb8d42",
       "version_major": 2,
       "version_minor": 0
      },
      "text/plain": [
       "Map(center=[30.266666, -97.73333], controls=(ZoomControl(options=['position', 'zoom_in_text', 'zoom_in_title',…"
      ]
     },
     "metadata": {},
     "output_type": "display_data"
    }
   ],
   "source": [
    "from ipyleaflet import basemaps, basemap_to_tiles\n",
    "m = Map(center=center, zoom=zoom)\n",
    "dark_matter_layer = basemap_to_tiles(basemaps.CartoDB.DarkMatter)\n",
    "m.add_layer(dark_matter_layer)\n",
    "m"
   ]
  },
  {
   "cell_type": "code",
   "execution_count": 5,
   "metadata": {},
   "outputs": [],
   "source": [
    "nasa_layer = basemap_to_tiles(basemaps.NASAGIBS.ModisTerraTrueColorCR, \"2018-04-08\");\n",
    "m.add_layer(nasa_layer);"
   ]
  },
  {
   "cell_type": "markdown",
   "metadata": {},
   "source": [
    "## Playing with icons"
   ]
  },
  {
   "cell_type": "code",
   "execution_count": 6,
   "metadata": {},
   "outputs": [
    {
     "data": {
      "application/vnd.jupyter.widget-view+json": {
       "model_id": "90e8b5779801421a84e61c447602adeb",
       "version_major": 2,
       "version_minor": 0
      },
      "text/plain": [
       "Map(center=[30.266666, -97.73333], controls=(ZoomControl(options=['position', 'zoom_in_text', 'zoom_in_title',…"
      ]
     },
     "metadata": {},
     "output_type": "display_data"
    }
   ],
   "source": [
    "from ipyleaflet import AwesomeIcon\n",
    "#center = (38.91342738235981, -77.03912909142674)\n",
    "icon1 = AwesomeIcon(\n",
    "name='bus',\n",
    "marker_color='red',\n",
    "icon_color='black',\n",
    "spin=False\n",
    ")\n",
    "marker1 = Marker(icon=icon1, location=(29.783449456820605, -95.36132812500001))\n",
    "icon2 = AwesomeIcon(\n",
    "name='gear',\n",
    "marker_color='green',\n",
    "icon_color='darkgreen',\n",
    "spin=True\n",
    ")\n",
    "marker2 = Marker(icon=icon2, location=(center[0], center[1] + 0.5))\n",
    "m = Map(center=center, zoom=zoom)\n",
    "m.add_layer(marker1)\n",
    "m.add_layer(marker2)\n",
    "m"
   ]
  },
  {
   "cell_type": "markdown",
   "metadata": {},
   "source": [
    "## Adding Popup"
   ]
  },
  {
   "cell_type": "code",
   "execution_count": 7,
   "metadata": {},
   "outputs": [
    {
     "data": {
      "application/vnd.jupyter.widget-view+json": {
       "model_id": "28c4a7ca79fa47c68d809a349ab98f54",
       "version_major": 2,
       "version_minor": 0
      },
      "text/plain": [
       "Map(center=[30.266666, -97.73333], close_popup_on_click=False, controls=(ZoomControl(options=['position', 'zoo…"
      ]
     },
     "metadata": {},
     "output_type": "display_data"
    }
   ],
   "source": [
    "from ipywidgets import HTML\n",
    "from ipyleaflet import Popup\n",
    "#center = (52.204793, 360.121558)\n",
    "m = Map(center=center, zoom=zoom, close_popup_on_click=False)\n",
    "marker = Marker(location=center)#(52.1, 359.9))\n",
    "m.add_layer(marker)\n",
    "message1 = HTML()\n",
    "message2 = HTML()\n",
    "message1.value = \"Try clicking the marker!\"\n",
    "message2.value = \"Hello <b>World</b>\"\n",
    "#message2.placeholder = \" \"\n",
    "#message2.description = \" \"\n",
    "# Popup with a given location on the map:\n",
    "popup = Popup(\n",
    "location=(center[0]+ 0.5, center[1]),\n",
    "child=message1,\n",
    "close_button=False,\n",
    "auto_close=False,\n",
    "close_on_escape_key=False\n",
    ")\n",
    "m.add_layer(popup)\n",
    "# Popup associated to a layer\n",
    "marker.popup = message2\n",
    "m"
   ]
  },
  {
   "cell_type": "code",
   "execution_count": 8,
   "metadata": {},
   "outputs": [
    {
     "data": {
      "application/vnd.jupyter.widget-view+json": {
       "model_id": "87eb721800764d3d877d3e12ccb942f2",
       "version_major": 2,
       "version_minor": 0
      },
      "text/plain": [
       "Map(center=[30.266666, -97.73333], controls=(ZoomControl(options=['position', 'zoom_in_text', 'zoom_in_title',…"
      ]
     },
     "metadata": {},
     "output_type": "display_data"
    }
   ],
   "source": [
    "from ipyleaflet import (Circle, Marker, Rectangle, LayerGroup)\n",
    "toner = basemap_to_tiles(basemaps.Stamen.Toner)\n",
    "m = Map(layers=(toner, ), center=center, zoom=zoom)\n",
    "# Create some layers\n",
    "marker = Marker(location=center)\n",
    "circle = Circle(location=center, radius=300000, color=\"red\", fill_color=\"red\")\n",
    "rectangle = Rectangle(bounds=(center, (32, -99)), color=\"orange\", fill_color=\"orange\")\n",
    "# Create layer group\n",
    "layer_group = LayerGroup(layers=(marker, circle))\n",
    "m.add_layer(layer_group)\n",
    "#layer_group.add_layer(rectangle)\n",
    "#layer_group.remove_layer(circle)\n",
    "m"
   ]
  },
  {
   "cell_type": "code",
   "execution_count": 9,
   "metadata": {},
   "outputs": [
    {
     "data": {
      "application/vnd.jupyter.widget-view+json": {
       "model_id": "e756a37cad354f9c9403834d0446d2e8",
       "version_major": 2,
       "version_minor": 0
      },
      "text/plain": [
       "Map(center=[0, 0], controls=(ZoomControl(options=['position', 'zoom_in_text', 'zoom_in_title', 'zoom_out_text'…"
      ]
     },
     "metadata": {},
     "output_type": "display_data"
    }
   ],
   "source": [
    "from ipyleaflet import Map, Heatmap\n",
    "from random import uniform\n",
    "m = Map(center=(0, 0), zoom=2)\n",
    "heatmap = Heatmap(\n",
    "    locations=[[uniform(-80, 80), uniform(-180, 180), uniform(0, 1000)] for i in range(1000)],\n",
    "    radius=25\n",
    ")\n",
    "m.add_layer(heatmap);\n",
    "m"
   ]
  },
  {
   "cell_type": "code",
   "execution_count": 10,
   "metadata": {},
   "outputs": [],
   "source": [
    "#!pip3 install netcdf4"
   ]
  },
  {
   "cell_type": "code",
   "execution_count": 11,
   "metadata": {},
   "outputs": [
    {
     "data": {
      "application/vnd.jupyter.widget-view+json": {
       "model_id": "1eacafb2d59a4b47b67c83104c7f2a27",
       "version_major": 2,
       "version_minor": 0
      },
      "text/plain": [
       "Map(center=[0, 0], controls=(ZoomControl(options=['position', 'zoom_in_text', 'zoom_in_title', 'zoom_out_text'…"
      ]
     },
     "metadata": {},
     "output_type": "display_data"
    }
   ],
   "source": [
    "from ipyleaflet import Velocity, TileLayer\n",
    "import xarray as xr\n",
    "import os\n",
    "if not os.path.exists('wind-global.nc'):\n",
    "    url = 'https://github.com/benbovy/xvelmap/raw/master/notebooks/wind-global.nc'\n",
    "    import requests\n",
    "    r = requests.get(url)\n",
    "    wind_data = r.content\n",
    "    with open('wind-global.nc', 'wb') as f:\n",
    "        f.write(wind_data)\n",
    "center = [0, 0]\n",
    "zoom = 1\n",
    "m = Map(center=center, zoom=zoom, interpolation='nearest', basemap=basemaps.CartoDB.DarkMatter)\n",
    "ds = xr.open_dataset('wind-global.nc')\n",
    "display_options = {\n",
    "    'velocityType': 'Global Wind',\n",
    "    'displayPosition': 'bottomleft',\n",
    "    'displayEmptyString': 'No wind data'\n",
    "    }\n",
    "wind = Velocity(data=ds,\n",
    "                zonal_speed='u_wind',\n",
    "                meridional_speed='v_wind',\n",
    "                latitude_dimension='lat',\n",
    "                longitude_dimension='lon',\n",
    "                velocity_scale=0.01,\n",
    "                max_velocity=20,\n",
    "                display_options=display_options)\n",
    "m.add_layer(wind)\n",
    "m"
   ]
  },
  {
   "cell_type": "markdown",
   "metadata": {},
   "source": [
    "## Adding WMS layer\n",
    "\n",
    "A Web Map Service (WMS) layer is based on data from an Open Geospatial Consortium (OGC) WMS server. \n",
    "OGC WMS is an OpenGIS standard specification for interactive mapping based on requesting map images from a server over the Internet.\n",
    "\n",
    "For example, let's use WMS provided by Iowa Environmental Mesonet: https://mesonet.agron.iastate.edu/ogc/ "
   ]
  },
  {
   "cell_type": "code",
   "execution_count": 12,
   "metadata": {
    "scrolled": true
   },
   "outputs": [
    {
     "data": {
      "application/vnd.jupyter.widget-view+json": {
       "model_id": "066e55ee315948f2aecdf04a93da1fe8",
       "version_major": 2,
       "version_minor": 0
      },
      "text/plain": [
       "Map(center=[38.491, -95.712], controls=(ZoomControl(options=['position', 'zoom_in_text', 'zoom_in_title', 'zoo…"
      ]
     },
     "metadata": {},
     "output_type": "display_data"
    }
   ],
   "source": [
    "from ipyleaflet import WMSLayer\n",
    "wms = WMSLayer(\n",
    "url='http://mesonet.agron.iastate.edu/cgi-bin/wms/nexrad/n0r.cgi',\n",
    "layers='nexrad-n0r-900913',\n",
    "format='image/png',\n",
    "transparent=True,\n",
    "attribution='Weather data © 2012 IEM Nexrad'\n",
    ")\n",
    "m = Map(basemap=basemaps.CartoDB.Positron, center=(38.491, -95.712), zoom=4)\n",
    "m.add_layer(wms)\n",
    "m"
   ]
  },
  {
   "cell_type": "markdown",
   "metadata": {},
   "source": [
    "## Define a WMSLayer class\n",
    "\n",
    "In this class we can add new parameters such as time. The following code adds a time parameter to the request by defining a custom TimeWMSLayer:"
   ]
  },
  {
   "cell_type": "code",
   "execution_count": 13,
   "metadata": {},
   "outputs": [
    {
     "data": {
      "application/vnd.jupyter.widget-view+json": {
       "model_id": "1f89f36235214769938ee8c7464fe739",
       "version_major": 2,
       "version_minor": 0
      },
      "text/plain": [
       "Map(center=[30.661, -88.645], controls=(ZoomControl(options=['position', 'zoom_in_text', 'zoom_in_title', 'zoo…"
      ]
     },
     "metadata": {},
     "output_type": "display_data"
    }
   ],
   "source": [
    "from traitlets import Unicode\n",
    "class TimeWMSLayer(WMSLayer):\n",
    "    time = Unicode('').tag(sync=True, o=True)\n",
    "time_wms = TimeWMSLayer(\n",
    "    url='https://mesonet.agron.iastate.edu/cgi-bin/wms/nexrad/n0r-t.cgi?',\n",
    "    layers='nexrad-n0r-wmst',\n",
    "    time='2005-08-29T13:00:00Z',\n",
    "    format='image/png',\n",
    "    transparent=True,\n",
    "    attribution='Weather data © 2012 IEM Nexrad'\n",
    "    )\n",
    "m2 = Map(basemap=basemaps.CartoDB.Positron, center=(30.661, -88.645), zoom=5)\n",
    "m2.add_layer(time_wms)\n",
    "m2"
   ]
  },
  {
   "cell_type": "code",
   "execution_count": 14,
   "metadata": {},
   "outputs": [
    {
     "data": {
      "application/vnd.jupyter.widget-view+json": {
       "model_id": "5abbc3da36cd474d9facbb227d0a3d98",
       "version_major": 2,
       "version_minor": 0
      },
      "text/plain": [
       "SelectionSlider(description='Time:', options=('13:00', '13:30', '14:00', '14:30', '15:00', '15:30', '16:00', '…"
      ]
     },
     "metadata": {},
     "output_type": "display_data"
    }
   ],
   "source": [
    "from ipywidgets import SelectionSlider\n",
    "time_options = [\n",
    "'13:00', '13:30',\n",
    "'14:00', '14:30',\n",
    "'15:00', '15:30',\n",
    "'16:00', '16:30'\n",
    "]\n",
    "slider = SelectionSlider(description='Time:', options=time_options)\n",
    "def update_wms(change):\n",
    "    time_wms.time = '2005-08-29T{}'.format(slider.value)\n",
    "slider.observe(update_wms, 'value')\n",
    "slider"
   ]
  },
  {
   "cell_type": "markdown",
   "metadata": {},
   "source": [
    "## Adding Data to the map\n",
    "\n",
    "1)GeoJSON layer is an ipyleaflet class that allows you to visualize a geojson file on the Map\n",
    "2)GeoData is an ipyleaflet class that allows you to visualize a GeoDataFrame on the Map"
   ]
  },
  {
   "cell_type": "code",
   "execution_count": 15,
   "metadata": {},
   "outputs": [
    {
     "data": {
      "application/vnd.jupyter.widget-view+json": {
       "model_id": "da9ff2700f804264ab57901981e95d66",
       "version_major": 2,
       "version_minor": 0
      },
      "text/plain": [
       "Map(center=[50.6252978589571, 0.34580993652344], controls=(ZoomControl(options=['position', 'zoom_in_text', 'z…"
      ]
     },
     "metadata": {},
     "output_type": "display_data"
    }
   ],
   "source": [
    "from ipyleaflet import GeoJSON\n",
    "import json\n",
    "import os\n",
    "import requests\n",
    "if not os.path.exists('europe_110.geo.json'):\n",
    "    url = 'https://github.com/jupyter-widgets/ipyleaflet/raw/master/examples/europe_110.geo.json'\n",
    "    r = requests.get(url)\n",
    "    with open('europe_110.geo.json', 'w') as f:\n",
    "        f.write(r.content.decode(\"utf-8\"))\n",
    "with open('europe_110.geo.json', 'r') as f:\n",
    "    data = json.load(f)\n",
    "m = Map(center=(50.6252978589571, 0.34580993652344), zoom=3)\n",
    "geo_json = GeoJSON(data=data, style = {'color': 'green',\n",
    "                                       'opacity':1,\n",
    "                                       'weight':1.9,\n",
    "                                       'dashArray':'9',\n",
    "                                       'fillOpacity':0.1})\n",
    "m.add_layer(geo_json)\n",
    "m"
   ]
  },
  {
   "cell_type": "code",
   "execution_count": 16,
   "metadata": {},
   "outputs": [
    {
     "name": "stdout",
     "output_type": "stream",
     "text": [
      "Collecting geopandas\n",
      "  Using cached geopandas-0.7.0-py2.py3-none-any.whl (928 kB)\n",
      "Collecting shapely\n",
      "  Using cached Shapely-1.7.0-cp37-cp37m-win_amd64.whl (1.0 MB)\n",
      "Collecting pyproj>=2.2.0\n",
      "  Downloading pyproj-2.6.0-cp37-cp37m-win_amd64.whl (24.1 MB)\n",
      "Requirement already satisfied: pandas>=0.23.0 in d:\\anaconda3\\lib\\site-packages (from geopandas) (0.25.1)\n",
      "Collecting fiona\n",
      "  Using cached Fiona-1.8.13.post1.tar.gz (1.2 MB)\n"
     ]
    },
    {
     "name": "stderr",
     "output_type": "stream",
     "text": [
      "    ERROR: Command errored out with exit status 1:\n",
      "     command: 'd:\\anaconda3\\python.exe' -c 'import sys, setuptools, tokenize; sys.argv[0] = '\"'\"'C:\\\\Users\\\\PEYTON~1\\\\AppData\\\\Local\\\\Temp\\\\pip-install-3iq28pjp\\\\fiona\\\\setup.py'\"'\"'; __file__='\"'\"'C:\\\\Users\\\\PEYTON~1\\\\AppData\\\\Local\\\\Temp\\\\pip-install-3iq28pjp\\\\fiona\\\\setup.py'\"'\"';f=getattr(tokenize, '\"'\"'open'\"'\"', open)(__file__);code=f.read().replace('\"'\"'\\r\\n'\"'\"', '\"'\"'\\n'\"'\"');f.close();exec(compile(code, __file__, '\"'\"'exec'\"'\"'))' egg_info --egg-base 'C:\\Users\\PEYTON~1\\AppData\\Local\\Temp\\pip-install-3iq28pjp\\fiona\\pip-egg-info'\n",
      "         cwd: C:\\Users\\PEYTON~1\\AppData\\Local\\Temp\\pip-install-3iq28pjp\\fiona\\\n",
      "    Complete output (1 lines):\n",
      "    A GDAL API version must be specified. Provide a path to gdal-config using a GDAL_CONFIG environment variable or use a GDAL_VERSION environment variable.\n",
      "    ----------------------------------------\n",
      "ERROR: Command errored out with exit status 1: python setup.py egg_info Check the logs for full command output.\n"
     ]
    }
   ],
   "source": [
    "!pip3 install geopandas"
   ]
  },
  {
   "cell_type": "code",
   "execution_count": 18,
   "metadata": {},
   "outputs": [
    {
     "data": {
      "application/vnd.jupyter.widget-view+json": {
       "model_id": "2957020adf234f5ea0aa26884f62b1ac",
       "version_major": 2,
       "version_minor": 0
      },
      "text/plain": [
       "Map(center=[52.3, 8.0], controls=(ZoomControl(options=['position', 'zoom_in_text', 'zoom_in_title', 'zoom_out_…"
      ]
     },
     "metadata": {},
     "output_type": "display_data"
    }
   ],
   "source": [
    "from ipyleaflet import GeoData, LayersControl\n",
    "import geopandas\n",
    "import json\n",
    "countries = geopandas.read_file(geopandas.datasets.get_path('naturalearth_lowres'))\n",
    "rivers = geopandas.read_file(\"https://www.naturalearthdata.com/http//www.naturalearthdata.com/download/10m/physical/ne_10m_rivers_lake_centerlines.zip\")\n",
    "m = Map(center=(52.3,8.0), zoom = 3, basemap= basemaps.Esri.WorldTopoMap)\n",
    "geo_data = GeoData(geo_dataframe = countries,\n",
    "                  style={'color': 'black',\n",
    "                         'fillColor': '#3366cc',\n",
    "                         'opacity':0.05,'weight':1.9,\n",
    "                         'dashArray':'2', 'fillOpacity':0.6},\n",
    "                 hover_style={'fillColor': 'red' , 'fillOpacity': 0.2},\n",
    "                 name = 'Countries')\n",
    "rivers_data = GeoData(geo_dataframe = rivers,\n",
    "                      style={'color': 'purple',\n",
    "                             'opacity':3,\n",
    "                             'weight':1.9,\n",
    "                             'dashArray':2,\n",
    "                             'fillOpacity':0.6},\n",
    "                      hover_style={'fillColor': 'red' , 'fillOpacity': 0.2},\n",
    "                      name = 'Rivers')\n",
    "m.add_layer(rivers_data)\n",
    "m.add_layer(geo_data)\n",
    "m.add_control(LayersControl())\n",
    "m"
   ]
  },
  {
   "cell_type": "code",
   "execution_count": 19,
   "metadata": {},
   "outputs": [
    {
     "ename": "DriverError",
     "evalue": "COVID19_Cases_US/COVID19_Cases_US.shp: No such file or directory",
     "output_type": "error",
     "traceback": [
      "\u001b[1;31m---------------------------------------------------------------------------\u001b[0m",
      "\u001b[1;31mCPLE_OpenFailedError\u001b[0m                      Traceback (most recent call last)",
      "\u001b[1;32mfiona/_shim.pyx\u001b[0m in \u001b[0;36mfiona._shim.gdal_open_vector\u001b[1;34m()\u001b[0m\n",
      "\u001b[1;32mfiona/_err.pyx\u001b[0m in \u001b[0;36mfiona._err.exc_wrap_pointer\u001b[1;34m()\u001b[0m\n",
      "\u001b[1;31mCPLE_OpenFailedError\u001b[0m: COVID19_Cases_US/COVID19_Cases_US.shp: No such file or directory",
      "\nDuring handling of the above exception, another exception occurred:\n",
      "\u001b[1;31mDriverError\u001b[0m                               Traceback (most recent call last)",
      "\u001b[1;32m<ipython-input-19-98f7797bbe1c>\u001b[0m in \u001b[0;36m<module>\u001b[1;34m\u001b[0m\n\u001b[0;32m      2\u001b[0m \u001b[1;32mimport\u001b[0m \u001b[0mipyleaflet\u001b[0m\u001b[1;33m\u001b[0m\u001b[1;33m\u001b[0m\u001b[0m\n\u001b[0;32m      3\u001b[0m \u001b[1;32mfrom\u001b[0m \u001b[0mbranca\u001b[0m\u001b[1;33m.\u001b[0m\u001b[0mcolormap\u001b[0m \u001b[1;32mimport\u001b[0m \u001b[0mlinear\u001b[0m\u001b[1;33m\u001b[0m\u001b[1;33m\u001b[0m\u001b[0m\n\u001b[1;32m----> 4\u001b[1;33m \u001b[0mgdf\u001b[0m \u001b[1;33m=\u001b[0m \u001b[0mgpd\u001b[0m\u001b[1;33m.\u001b[0m\u001b[0mread_file\u001b[0m\u001b[1;33m(\u001b[0m\u001b[1;34m'COVID19_Cases_US/COVID19_Cases_US.shp'\u001b[0m\u001b[1;33m)\u001b[0m\u001b[1;33m\u001b[0m\u001b[1;33m\u001b[0m\u001b[0m\n\u001b[0m\u001b[0;32m      5\u001b[0m \u001b[0mgdf\u001b[0m\u001b[1;33m.\u001b[0m\u001b[0mto_file\u001b[0m\u001b[1;33m(\u001b[0m\u001b[1;34m\"covid.geojson\"\u001b[0m\u001b[1;33m,\u001b[0m \u001b[0mdriver\u001b[0m\u001b[1;33m=\u001b[0m\u001b[1;34m'GeoJSON'\u001b[0m\u001b[1;33m)\u001b[0m\u001b[1;33m\u001b[0m\u001b[1;33m\u001b[0m\u001b[0m\n\u001b[0;32m      6\u001b[0m \u001b[1;32mwith\u001b[0m \u001b[0mopen\u001b[0m\u001b[1;33m(\u001b[0m\u001b[1;34m'covid.geojson'\u001b[0m\u001b[1;33m,\u001b[0m \u001b[1;34m'r'\u001b[0m\u001b[1;33m)\u001b[0m \u001b[1;32mas\u001b[0m \u001b[0mf\u001b[0m\u001b[1;33m:\u001b[0m\u001b[1;33m\u001b[0m\u001b[1;33m\u001b[0m\u001b[0m\n",
      "\u001b[1;32mD:\\Anaconda3\\lib\\site-packages\\geopandas\\io\\file.py\u001b[0m in \u001b[0;36mread_file\u001b[1;34m(filename, bbox, **kwargs)\u001b[0m\n\u001b[0;32m     74\u001b[0m \u001b[1;33m\u001b[0m\u001b[0m\n\u001b[0;32m     75\u001b[0m     \u001b[1;32mwith\u001b[0m \u001b[0mfiona_env\u001b[0m\u001b[1;33m(\u001b[0m\u001b[1;33m)\u001b[0m\u001b[1;33m:\u001b[0m\u001b[1;33m\u001b[0m\u001b[1;33m\u001b[0m\u001b[0m\n\u001b[1;32m---> 76\u001b[1;33m         \u001b[1;32mwith\u001b[0m \u001b[0mreader\u001b[0m\u001b[1;33m(\u001b[0m\u001b[0mpath_or_bytes\u001b[0m\u001b[1;33m,\u001b[0m \u001b[1;33m**\u001b[0m\u001b[0mkwargs\u001b[0m\u001b[1;33m)\u001b[0m \u001b[1;32mas\u001b[0m \u001b[0mfeatures\u001b[0m\u001b[1;33m:\u001b[0m\u001b[1;33m\u001b[0m\u001b[1;33m\u001b[0m\u001b[0m\n\u001b[0m\u001b[0;32m     77\u001b[0m \u001b[1;33m\u001b[0m\u001b[0m\n\u001b[0;32m     78\u001b[0m             \u001b[1;31m# In a future Fiona release the crs attribute of features will\u001b[0m\u001b[1;33m\u001b[0m\u001b[1;33m\u001b[0m\u001b[1;33m\u001b[0m\u001b[0m\n",
      "\u001b[1;32mD:\\Anaconda3\\lib\\site-packages\\fiona\\env.py\u001b[0m in \u001b[0;36mwrapper\u001b[1;34m(*args, **kwargs)\u001b[0m\n\u001b[0;32m    394\u001b[0m     \u001b[1;32mdef\u001b[0m \u001b[0mwrapper\u001b[0m\u001b[1;33m(\u001b[0m\u001b[1;33m*\u001b[0m\u001b[0margs\u001b[0m\u001b[1;33m,\u001b[0m \u001b[1;33m**\u001b[0m\u001b[0mkwargs\u001b[0m\u001b[1;33m)\u001b[0m\u001b[1;33m:\u001b[0m\u001b[1;33m\u001b[0m\u001b[1;33m\u001b[0m\u001b[0m\n\u001b[0;32m    395\u001b[0m         \u001b[1;32mif\u001b[0m \u001b[0mlocal\u001b[0m\u001b[1;33m.\u001b[0m\u001b[0m_env\u001b[0m\u001b[1;33m:\u001b[0m\u001b[1;33m\u001b[0m\u001b[1;33m\u001b[0m\u001b[0m\n\u001b[1;32m--> 396\u001b[1;33m             \u001b[1;32mreturn\u001b[0m \u001b[0mf\u001b[0m\u001b[1;33m(\u001b[0m\u001b[1;33m*\u001b[0m\u001b[0margs\u001b[0m\u001b[1;33m,\u001b[0m \u001b[1;33m**\u001b[0m\u001b[0mkwargs\u001b[0m\u001b[1;33m)\u001b[0m\u001b[1;33m\u001b[0m\u001b[1;33m\u001b[0m\u001b[0m\n\u001b[0m\u001b[0;32m    397\u001b[0m         \u001b[1;32melse\u001b[0m\u001b[1;33m:\u001b[0m\u001b[1;33m\u001b[0m\u001b[1;33m\u001b[0m\u001b[0m\n\u001b[0;32m    398\u001b[0m             \u001b[1;32mif\u001b[0m \u001b[0misinstance\u001b[0m\u001b[1;33m(\u001b[0m\u001b[0margs\u001b[0m\u001b[1;33m[\u001b[0m\u001b[1;36m0\u001b[0m\u001b[1;33m]\u001b[0m\u001b[1;33m,\u001b[0m \u001b[0mstr\u001b[0m\u001b[1;33m)\u001b[0m\u001b[1;33m:\u001b[0m\u001b[1;33m\u001b[0m\u001b[1;33m\u001b[0m\u001b[0m\n",
      "\u001b[1;32mD:\\Anaconda3\\lib\\site-packages\\fiona\\__init__.py\u001b[0m in \u001b[0;36mopen\u001b[1;34m(fp, mode, driver, schema, crs, encoding, layer, vfs, enabled_drivers, crs_wkt, **kwargs)\u001b[0m\n\u001b[0;32m    251\u001b[0m         \u001b[1;32mif\u001b[0m \u001b[0mmode\u001b[0m \u001b[1;32min\u001b[0m \u001b[1;33m(\u001b[0m\u001b[1;34m'a'\u001b[0m\u001b[1;33m,\u001b[0m \u001b[1;34m'r'\u001b[0m\u001b[1;33m)\u001b[0m\u001b[1;33m:\u001b[0m\u001b[1;33m\u001b[0m\u001b[1;33m\u001b[0m\u001b[0m\n\u001b[0;32m    252\u001b[0m             c = Collection(path, mode, driver=driver, encoding=encoding,\n\u001b[1;32m--> 253\u001b[1;33m                            layer=layer, enabled_drivers=enabled_drivers, **kwargs)\n\u001b[0m\u001b[0;32m    254\u001b[0m         \u001b[1;32melif\u001b[0m \u001b[0mmode\u001b[0m \u001b[1;33m==\u001b[0m \u001b[1;34m'w'\u001b[0m\u001b[1;33m:\u001b[0m\u001b[1;33m\u001b[0m\u001b[1;33m\u001b[0m\u001b[0m\n\u001b[0;32m    255\u001b[0m             \u001b[1;32mif\u001b[0m \u001b[0mschema\u001b[0m\u001b[1;33m:\u001b[0m\u001b[1;33m\u001b[0m\u001b[1;33m\u001b[0m\u001b[0m\n",
      "\u001b[1;32mD:\\Anaconda3\\lib\\site-packages\\fiona\\collection.py\u001b[0m in \u001b[0;36m__init__\u001b[1;34m(self, path, mode, driver, schema, crs, encoding, layer, vsi, archive, enabled_drivers, crs_wkt, ignore_fields, ignore_geometry, **kwargs)\u001b[0m\n\u001b[0;32m    157\u001b[0m             \u001b[1;32mif\u001b[0m \u001b[0mself\u001b[0m\u001b[1;33m.\u001b[0m\u001b[0mmode\u001b[0m \u001b[1;33m==\u001b[0m \u001b[1;34m'r'\u001b[0m\u001b[1;33m:\u001b[0m\u001b[1;33m\u001b[0m\u001b[1;33m\u001b[0m\u001b[0m\n\u001b[0;32m    158\u001b[0m                 \u001b[0mself\u001b[0m\u001b[1;33m.\u001b[0m\u001b[0msession\u001b[0m \u001b[1;33m=\u001b[0m \u001b[0mSession\u001b[0m\u001b[1;33m(\u001b[0m\u001b[1;33m)\u001b[0m\u001b[1;33m\u001b[0m\u001b[1;33m\u001b[0m\u001b[0m\n\u001b[1;32m--> 159\u001b[1;33m                 \u001b[0mself\u001b[0m\u001b[1;33m.\u001b[0m\u001b[0msession\u001b[0m\u001b[1;33m.\u001b[0m\u001b[0mstart\u001b[0m\u001b[1;33m(\u001b[0m\u001b[0mself\u001b[0m\u001b[1;33m,\u001b[0m \u001b[1;33m**\u001b[0m\u001b[0mkwargs\u001b[0m\u001b[1;33m)\u001b[0m\u001b[1;33m\u001b[0m\u001b[1;33m\u001b[0m\u001b[0m\n\u001b[0m\u001b[0;32m    160\u001b[0m             \u001b[1;32melif\u001b[0m \u001b[0mself\u001b[0m\u001b[1;33m.\u001b[0m\u001b[0mmode\u001b[0m \u001b[1;32min\u001b[0m \u001b[1;33m(\u001b[0m\u001b[1;34m'a'\u001b[0m\u001b[1;33m,\u001b[0m \u001b[1;34m'w'\u001b[0m\u001b[1;33m)\u001b[0m\u001b[1;33m:\u001b[0m\u001b[1;33m\u001b[0m\u001b[1;33m\u001b[0m\u001b[0m\n\u001b[0;32m    161\u001b[0m                 \u001b[0mself\u001b[0m\u001b[1;33m.\u001b[0m\u001b[0msession\u001b[0m \u001b[1;33m=\u001b[0m \u001b[0mWritingSession\u001b[0m\u001b[1;33m(\u001b[0m\u001b[1;33m)\u001b[0m\u001b[1;33m\u001b[0m\u001b[1;33m\u001b[0m\u001b[0m\n",
      "\u001b[1;32mfiona/ogrext.pyx\u001b[0m in \u001b[0;36mfiona.ogrext.Session.start\u001b[1;34m()\u001b[0m\n",
      "\u001b[1;32mfiona/_shim.pyx\u001b[0m in \u001b[0;36mfiona._shim.gdal_open_vector\u001b[1;34m()\u001b[0m\n",
      "\u001b[1;31mDriverError\u001b[0m: COVID19_Cases_US/COVID19_Cases_US.shp: No such file or directory"
     ]
    }
   ],
   "source": [
    "import geopandas as gpd\n",
    "import ipyleaflet\n",
    "from branca.colormap import linear\n",
    "gdf = gpd.read_file('COVID19_Cases_US/COVID19_Cases_US.shp')\n",
    "gdf.to_file(\"covid.geojson\", driver='GeoJSON')\n",
    "with open('covid.geojson', 'r') as f:\n",
    "    data = json.load(f)\n",
    "#for feature in data['features']:\n",
    "    #print(feature['properties'])\n",
    "#print (gdf.head())\n",
    "geo_data = GeoData(geo_dataframe = gdf,\n",
    "                  style={'color': 'black',\n",
    "                         'fillColor': '#3366cc',\n",
    "                         'opacity':0.05,'weight':1.9,\n",
    "                         'fillOpacity':0.6},\n",
    "                 hover_style={'fillColor': 'red' , 'fillOpacity': 0.2},\n",
    "                 name = 'Covid')\n",
    "\n",
    "\n",
    "m = Map(center = (43,-100), zoom = 4)\n",
    "m.add_layer(geo_data)\n",
    "m"
   ]
  },
  {
   "cell_type": "code",
   "execution_count": null,
   "metadata": {},
   "outputs": [],
   "source": []
  },
  {
   "cell_type": "code",
   "execution_count": null,
   "metadata": {},
   "outputs": [],
   "source": []
  },
  {
   "cell_type": "code",
   "execution_count": null,
   "metadata": {},
   "outputs": [],
   "source": []
  },
  {
   "cell_type": "code",
   "execution_count": null,
   "metadata": {},
   "outputs": [],
   "source": []
  },
  {
   "cell_type": "code",
   "execution_count": null,
   "metadata": {},
   "outputs": [],
   "source": []
  },
  {
   "cell_type": "code",
   "execution_count": null,
   "metadata": {},
   "outputs": [],
   "source": []
  },
  {
   "cell_type": "code",
   "execution_count": null,
   "metadata": {},
   "outputs": [],
   "source": []
  }
 ],
 "metadata": {
  "kernelspec": {
   "display_name": "Python 3",
   "language": "python",
   "name": "python3"
  },
  "language_info": {
   "codemirror_mode": {
    "name": "ipython",
    "version": 3
   },
   "file_extension": ".py",
   "mimetype": "text/x-python",
   "name": "python",
   "nbconvert_exporter": "python",
   "pygments_lexer": "ipython3",
   "version": "3.7.4"
  }
 },
 "nbformat": 4,
 "nbformat_minor": 2
}
