{
 "cells": [
  {
   "cell_type": "code",
   "execution_count": 1,
   "metadata": {},
   "outputs": [],
   "source": [
    "import matplotlib as mpl\n",
    "import matplotlib.pyplot as plt\n",
    "%matplotlib inline"
   ]
  },
  {
   "cell_type": "markdown",
   "metadata": {},
   "source": [
    "# Dummy data to plot with pyplot"
   ]
  },
  {
   "cell_type": "code",
   "execution_count": 2,
   "metadata": {},
   "outputs": [
    {
     "data": {
      "image/png": "[encoded data removed]",
      "text/plain": [
       "<Figure size 432x288 with 1 Axes>"
      ]
     },
     "metadata": {
      "needs_background": "light"
     },
     "output_type": "display_data"
    }
   ],
   "source": [
    "import numpy as np\n",
    "x = np.linspace(0, 10, 100)\n",
    "#print(x)\n",
    "fig = plt.figure()\n",
    "plt.plot(x, np.sin(x), '-')\n",
    "plt.plot(x, np.cos(x), '--');"
   ]
  },
  {
   "cell_type": "markdown",
   "metadata": {},
   "source": [
    "# Let's import our dataset with Pandas"
   ]
  },
  {
   "cell_type": "code",
   "execution_count": 3,
   "metadata": {},
   "outputs": [],
   "source": [
    "import pandas as pd"
   ]
  },
  {
   "cell_type": "code",
   "execution_count": 4,
   "metadata": {},
   "outputs": [],
   "source": [
    "df = pd.read_csv('fortune500.csv')"
   ]
  },
  {
   "cell_type": "code",
   "execution_count": 5,
   "metadata": {},
   "outputs": [
    {
     "data": {
      "text/html": [
       "<div>\n",
       "<style scoped>\n",
       "    .dataframe tbody tr th:only-of-type {\n",
       "        vertical-align: middle;\n",
       "    }\n",
       "\n",
       "    .dataframe tbody tr th {\n",
       "        vertical-align: top;\n",
       "    }\n",
       "\n",
       "    .dataframe thead th {\n",
       "        text-align: right;\n",
       "    }\n",
       "</style>\n",
       "<table border=\"1\" class=\"dataframe\">\n",
       "  <thead>\n",
       "    <tr style=\"text-align: right;\">\n",
       "      <th></th>\n",
       "      <th>Year</th>\n",
       "      <th>Rank</th>\n",
       "      <th>Company</th>\n",
       "      <th>Revenue (in millions)</th>\n",
       "      <th>Profit (in millions)</th>\n",
       "    </tr>\n",
       "  </thead>\n",
       "  <tbody>\n",
       "    <tr>\n",
       "      <td>0</td>\n",
       "      <td>1955</td>\n",
       "      <td>1</td>\n",
       "      <td>General Motors</td>\n",
       "      <td>9823.5</td>\n",
       "      <td>806</td>\n",
       "    </tr>\n",
       "    <tr>\n",
       "      <td>1</td>\n",
       "      <td>1955</td>\n",
       "      <td>2</td>\n",
       "      <td>Exxon Mobil</td>\n",
       "      <td>5661.4</td>\n",
       "      <td>584.8</td>\n",
       "    </tr>\n",
       "    <tr>\n",
       "      <td>2</td>\n",
       "      <td>1955</td>\n",
       "      <td>3</td>\n",
       "      <td>U.S. Steel</td>\n",
       "      <td>3250.4</td>\n",
       "      <td>195.4</td>\n",
       "    </tr>\n",
       "    <tr>\n",
       "      <td>3</td>\n",
       "      <td>1955</td>\n",
       "      <td>4</td>\n",
       "      <td>General Electric</td>\n",
       "      <td>2959.1</td>\n",
       "      <td>212.6</td>\n",
       "    </tr>\n",
       "    <tr>\n",
       "      <td>4</td>\n",
       "      <td>1955</td>\n",
       "      <td>5</td>\n",
       "      <td>Esmark</td>\n",
       "      <td>2510.8</td>\n",
       "      <td>19.1</td>\n",
       "    </tr>\n",
       "  </tbody>\n",
       "</table>\n",
       "</div>"
      ],
      "text/plain": [
       "   Year  Rank           Company  Revenue (in millions) Profit (in millions)\n",
       "0  1955     1    General Motors                 9823.5                  806\n",
       "1  1955     2       Exxon Mobil                 5661.4                584.8\n",
       "2  1955     3        U.S. Steel                 3250.4                195.4\n",
       "3  1955     4  General Electric                 2959.1                212.6\n",
       "4  1955     5            Esmark                 2510.8                 19.1"
      ]
     },
     "execution_count": 5,
     "metadata": {},
     "output_type": "execute_result"
    }
   ],
   "source": [
    "df.head()"
   ]
  },
  {
   "cell_type": "code",
   "execution_count": 6,
   "metadata": {},
   "outputs": [
    {
     "data": {
      "text/html": [
       "<div>\n",
       "<style scoped>\n",
       "    .dataframe tbody tr th:only-of-type {\n",
       "        vertical-align: middle;\n",
       "    }\n",
       "\n",
       "    .dataframe tbody tr th {\n",
       "        vertical-align: top;\n",
       "    }\n",
       "\n",
       "    .dataframe thead th {\n",
       "        text-align: right;\n",
       "    }\n",
       "</style>\n",
       "<table border=\"1\" class=\"dataframe\">\n",
       "  <thead>\n",
       "    <tr style=\"text-align: right;\">\n",
       "      <th></th>\n",
       "      <th>Year</th>\n",
       "      <th>Rank</th>\n",
       "      <th>Company</th>\n",
       "      <th>Revenue (in millions)</th>\n",
       "      <th>Profit (in millions)</th>\n",
       "    </tr>\n",
       "  </thead>\n",
       "  <tbody>\n",
       "    <tr>\n",
       "      <td>25495</td>\n",
       "      <td>2005</td>\n",
       "      <td>496</td>\n",
       "      <td>Wm. Wrigley Jr.</td>\n",
       "      <td>3648.6</td>\n",
       "      <td>493</td>\n",
       "    </tr>\n",
       "    <tr>\n",
       "      <td>25496</td>\n",
       "      <td>2005</td>\n",
       "      <td>497</td>\n",
       "      <td>Peabody Energy</td>\n",
       "      <td>3631.6</td>\n",
       "      <td>175.4</td>\n",
       "    </tr>\n",
       "    <tr>\n",
       "      <td>25497</td>\n",
       "      <td>2005</td>\n",
       "      <td>498</td>\n",
       "      <td>Wendy's International</td>\n",
       "      <td>3630.4</td>\n",
       "      <td>57.8</td>\n",
       "    </tr>\n",
       "    <tr>\n",
       "      <td>25498</td>\n",
       "      <td>2005</td>\n",
       "      <td>499</td>\n",
       "      <td>Kindred Healthcare</td>\n",
       "      <td>3616.6</td>\n",
       "      <td>70.6</td>\n",
       "    </tr>\n",
       "    <tr>\n",
       "      <td>25499</td>\n",
       "      <td>2005</td>\n",
       "      <td>500</td>\n",
       "      <td>Cincinnati Financial</td>\n",
       "      <td>3614.0</td>\n",
       "      <td>584</td>\n",
       "    </tr>\n",
       "  </tbody>\n",
       "</table>\n",
       "</div>"
      ],
      "text/plain": [
       "       Year  Rank                Company  Revenue (in millions)  \\\n",
       "25495  2005   496        Wm. Wrigley Jr.                 3648.6   \n",
       "25496  2005   497         Peabody Energy                 3631.6   \n",
       "25497  2005   498  Wendy's International                 3630.4   \n",
       "25498  2005   499     Kindred Healthcare                 3616.6   \n",
       "25499  2005   500   Cincinnati Financial                 3614.0   \n",
       "\n",
       "      Profit (in millions)  \n",
       "25495                  493  \n",
       "25496                175.4  \n",
       "25497                 57.8  \n",
       "25498                 70.6  \n",
       "25499                  584  "
      ]
     },
     "execution_count": 6,
     "metadata": {},
     "output_type": "execute_result"
    }
   ],
   "source": [
    "df.tail()"
   ]
  },
  {
   "cell_type": "markdown",
   "metadata": {},
   "source": [
    "# Let’s just rename those columns so we can refer to them later"
   ]
  },
  {
   "cell_type": "code",
   "execution_count": 7,
   "metadata": {},
   "outputs": [],
   "source": [
    "df.columns = ['year', 'rank', 'company', 'revenue', 'profit']"
   ]
  },
  {
   "cell_type": "code",
   "execution_count": 8,
   "metadata": {},
   "outputs": [
    {
     "data": {
      "text/plain": [
       "25500"
      ]
     },
     "execution_count": 8,
     "metadata": {},
     "output_type": "execute_result"
    }
   ],
   "source": [
    "len(df)"
   ]
  },
  {
   "cell_type": "code",
   "execution_count": 9,
   "metadata": {},
   "outputs": [
    {
     "data": {
      "text/plain": [
       "year         int64\n",
       "rank         int64\n",
       "company     object\n",
       "revenue    float64\n",
       "profit      object\n",
       "dtype: object"
      ]
     },
     "execution_count": 9,
     "metadata": {},
     "output_type": "execute_result"
    }
   ],
   "source": [
    "df.dtypes"
   ]
  },
  {
   "cell_type": "markdown",
   "metadata": {},
   "source": [
    "# Let's make sure we have only numeric values in the \"profit\" column"
   ]
  },
  {
   "cell_type": "code",
   "execution_count": 10,
   "metadata": {},
   "outputs": [
    {
     "data": {
      "text/html": [
       "<div>\n",
       "<style scoped>\n",
       "    .dataframe tbody tr th:only-of-type {\n",
       "        vertical-align: middle;\n",
       "    }\n",
       "\n",
       "    .dataframe tbody tr th {\n",
       "        vertical-align: top;\n",
       "    }\n",
       "\n",
       "    .dataframe thead th {\n",
       "        text-align: right;\n",
       "    }\n",
       "</style>\n",
       "<table border=\"1\" class=\"dataframe\">\n",
       "  <thead>\n",
       "    <tr style=\"text-align: right;\">\n",
       "      <th></th>\n",
       "      <th>year</th>\n",
       "      <th>rank</th>\n",
       "      <th>company</th>\n",
       "      <th>revenue</th>\n",
       "      <th>profit</th>\n",
       "    </tr>\n",
       "  </thead>\n",
       "  <tbody>\n",
       "    <tr>\n",
       "      <td>228</td>\n",
       "      <td>1955</td>\n",
       "      <td>229</td>\n",
       "      <td>Norton</td>\n",
       "      <td>135.0</td>\n",
       "      <td>N.A.</td>\n",
       "    </tr>\n",
       "    <tr>\n",
       "      <td>290</td>\n",
       "      <td>1955</td>\n",
       "      <td>291</td>\n",
       "      <td>Schlitz Brewing</td>\n",
       "      <td>100.0</td>\n",
       "      <td>N.A.</td>\n",
       "    </tr>\n",
       "    <tr>\n",
       "      <td>294</td>\n",
       "      <td>1955</td>\n",
       "      <td>295</td>\n",
       "      <td>Pacific Vegetable Oil</td>\n",
       "      <td>97.9</td>\n",
       "      <td>N.A.</td>\n",
       "    </tr>\n",
       "    <tr>\n",
       "      <td>296</td>\n",
       "      <td>1955</td>\n",
       "      <td>297</td>\n",
       "      <td>Liebmann Breweries</td>\n",
       "      <td>96.0</td>\n",
       "      <td>N.A.</td>\n",
       "    </tr>\n",
       "    <tr>\n",
       "      <td>352</td>\n",
       "      <td>1955</td>\n",
       "      <td>353</td>\n",
       "      <td>Minneapolis-Moline</td>\n",
       "      <td>77.4</td>\n",
       "      <td>N.A.</td>\n",
       "    </tr>\n",
       "  </tbody>\n",
       "</table>\n",
       "</div>"
      ],
      "text/plain": [
       "     year  rank                company  revenue profit\n",
       "228  1955   229                 Norton    135.0   N.A.\n",
       "290  1955   291        Schlitz Brewing    100.0   N.A.\n",
       "294  1955   295  Pacific Vegetable Oil     97.9   N.A.\n",
       "296  1955   297     Liebmann Breweries     96.0   N.A.\n",
       "352  1955   353     Minneapolis-Moline     77.4   N.A."
      ]
     },
     "execution_count": 10,
     "metadata": {},
     "output_type": "execute_result"
    }
   ],
   "source": [
    "non_numberic_profits = df.profit.str.contains('[^0-9.-]')\n",
    "df.loc[non_numberic_profits].head()"
   ]
  },
  {
   "cell_type": "code",
   "execution_count": 11,
   "metadata": {},
   "outputs": [
    {
     "data": {
      "text/plain": [
       "{'N.A.'}"
      ]
     },
     "execution_count": 11,
     "metadata": {},
     "output_type": "execute_result"
    }
   ],
   "source": [
    "#print non_numberic_profits\n",
    "set(df.profit[non_numberic_profits])"
   ]
  },
  {
   "cell_type": "code",
   "execution_count": 12,
   "metadata": {},
   "outputs": [
    {
     "data": {
      "text/plain": [
       "369"
      ]
     },
     "execution_count": 12,
     "metadata": {},
     "output_type": "execute_result"
    }
   ],
   "source": [
    "len(df.profit[non_numberic_profits])"
   ]
  },
  {
   "cell_type": "code",
   "execution_count": 13,
   "metadata": {},
   "outputs": [
    {
     "data": {
      "text/plain": [
       "Text(0.5, 1.0, 'Number of null fields in the profit column per year')"
      ]
     },
     "execution_count": 13,
     "metadata": {},
     "output_type": "execute_result"
    },
    {
     "data": {
      "image/png": "[encoded data removed]",
      "text/plain": [
       "<Figure size 432x288 with 1 Axes>"
      ]
     },
     "metadata": {
      "needs_background": "light"
     },
     "output_type": "display_data"
    }
   ],
   "source": [
    "n, bins, patches = plt.hist(df.year[non_numberic_profits].values, bins=range(1955, 2006), color='c', alpha=0.5)\n",
    "\n",
    "plt.xlabel('years')\n",
    "plt.ylabel('NA Count')\n",
    "plt.title('Number of null fields in the profit column per year')"
   ]
  },
  {
   "cell_type": "code",
   "execution_count": 14,
   "metadata": {},
   "outputs": [
    {
     "data": {
      "text/plain": [
       "pandas.core.series.Series"
      ]
     },
     "execution_count": 14,
     "metadata": {},
     "output_type": "execute_result"
    }
   ],
   "source": [
    "type(df.year[non_numberic_profits]) # that's why we used df.year[non_numberic_profits].values in plt.hist()\n"
   ]
  },
  {
   "cell_type": "code",
   "execution_count": 15,
   "metadata": {},
   "outputs": [],
   "source": [
    "df = df.loc[~non_numberic_profits]"
   ]
  },
  {
   "cell_type": "code",
   "execution_count": 16,
   "metadata": {},
   "outputs": [
    {
     "data": {
      "text/plain": [
       "25131"
      ]
     },
     "execution_count": 16,
     "metadata": {},
     "output_type": "execute_result"
    }
   ],
   "source": [
    "len(df)"
   ]
  },
  {
   "cell_type": "code",
   "execution_count": 17,
   "metadata": {},
   "outputs": [
    {
     "data": {
      "text/plain": [
       "year         int64\n",
       "rank         int64\n",
       "company     object\n",
       "revenue    float64\n",
       "profit      object\n",
       "dtype: object"
      ]
     },
     "execution_count": 17,
     "metadata": {},
     "output_type": "execute_result"
    }
   ],
   "source": [
    "df.dtypes"
   ]
  },
  {
   "cell_type": "code",
   "execution_count": 18,
   "metadata": {},
   "outputs": [],
   "source": [
    "df.profit = pd.to_numeric(df.profit) #df.profit.convert_objects(convert_numeric=True)"
   ]
  },
  {
   "cell_type": "code",
   "execution_count": 19,
   "metadata": {},
   "outputs": [
    {
     "data": {
      "text/plain": [
       "year         int64\n",
       "rank         int64\n",
       "company     object\n",
       "revenue    float64\n",
       "profit     float64\n",
       "dtype: object"
      ]
     },
     "execution_count": 19,
     "metadata": {},
     "output_type": "execute_result"
    }
   ],
   "source": [
    "df.dtypes"
   ]
  },
  {
   "cell_type": "markdown",
   "metadata": {},
   "source": [
    "# Plotting with matplotlib"
   ]
  },
  {
   "cell_type": "code",
   "execution_count": 20,
   "metadata": {},
   "outputs": [
    {
     "data": {
      "text/html": [
       "<div>\n",
       "<style scoped>\n",
       "    .dataframe tbody tr th:only-of-type {\n",
       "        vertical-align: middle;\n",
       "    }\n",
       "\n",
       "    .dataframe tbody tr th {\n",
       "        vertical-align: top;\n",
       "    }\n",
       "\n",
       "    .dataframe thead th {\n",
       "        text-align: right;\n",
       "    }\n",
       "</style>\n",
       "<table border=\"1\" class=\"dataframe\">\n",
       "  <thead>\n",
       "    <tr style=\"text-align: right;\">\n",
       "      <th></th>\n",
       "      <th>year</th>\n",
       "      <th>revenue</th>\n",
       "      <th>profit</th>\n",
       "    </tr>\n",
       "  </thead>\n",
       "  <tbody>\n",
       "    <tr>\n",
       "      <td>0</td>\n",
       "      <td>1955</td>\n",
       "      <td>9823.5</td>\n",
       "      <td>806.0</td>\n",
       "    </tr>\n",
       "    <tr>\n",
       "      <td>1</td>\n",
       "      <td>1955</td>\n",
       "      <td>5661.4</td>\n",
       "      <td>584.8</td>\n",
       "    </tr>\n",
       "    <tr>\n",
       "      <td>2</td>\n",
       "      <td>1955</td>\n",
       "      <td>3250.4</td>\n",
       "      <td>195.4</td>\n",
       "    </tr>\n",
       "    <tr>\n",
       "      <td>3</td>\n",
       "      <td>1955</td>\n",
       "      <td>2959.1</td>\n",
       "      <td>212.6</td>\n",
       "    </tr>\n",
       "    <tr>\n",
       "      <td>4</td>\n",
       "      <td>1955</td>\n",
       "      <td>2510.8</td>\n",
       "      <td>19.1</td>\n",
       "    </tr>\n",
       "    <tr>\n",
       "      <td>...</td>\n",
       "      <td>...</td>\n",
       "      <td>...</td>\n",
       "      <td>...</td>\n",
       "    </tr>\n",
       "    <tr>\n",
       "      <td>25000</td>\n",
       "      <td>2005</td>\n",
       "      <td>288189.0</td>\n",
       "      <td>10267.0</td>\n",
       "    </tr>\n",
       "    <tr>\n",
       "      <td>25001</td>\n",
       "      <td>2005</td>\n",
       "      <td>270772.0</td>\n",
       "      <td>25330.0</td>\n",
       "    </tr>\n",
       "    <tr>\n",
       "      <td>25002</td>\n",
       "      <td>2005</td>\n",
       "      <td>193517.0</td>\n",
       "      <td>2805.0</td>\n",
       "    </tr>\n",
       "    <tr>\n",
       "      <td>25003</td>\n",
       "      <td>2005</td>\n",
       "      <td>172233.0</td>\n",
       "      <td>3487.0</td>\n",
       "    </tr>\n",
       "    <tr>\n",
       "      <td>25004</td>\n",
       "      <td>2005</td>\n",
       "      <td>152363.0</td>\n",
       "      <td>16593.0</td>\n",
       "    </tr>\n",
       "  </tbody>\n",
       "</table>\n",
       "<p>255 rows × 3 columns</p>\n",
       "</div>"
      ],
      "text/plain": [
       "       year   revenue   profit\n",
       "0      1955    9823.5    806.0\n",
       "1      1955    5661.4    584.8\n",
       "2      1955    3250.4    195.4\n",
       "3      1955    2959.1    212.6\n",
       "4      1955    2510.8     19.1\n",
       "...     ...       ...      ...\n",
       "25000  2005  288189.0  10267.0\n",
       "25001  2005  270772.0  25330.0\n",
       "25002  2005  193517.0   2805.0\n",
       "25003  2005  172233.0   3487.0\n",
       "25004  2005  152363.0  16593.0\n",
       "\n",
       "[255 rows x 3 columns]"
      ]
     },
     "execution_count": 20,
     "metadata": {},
     "output_type": "execute_result"
    }
   ],
   "source": [
    "group_by_year = df.loc[:, ['year', 'revenue', 'profit']].groupby('year')\n",
    "group_by_year.head()"
   ]
  },
  {
   "cell_type": "code",
   "execution_count": 21,
   "metadata": {},
   "outputs": [],
   "source": [
    "avgs = group_by_year.mean()\n",
    "x = avgs.index\n",
    "y1 = avgs.profit\n",
    "y2 = avgs.revenue"
   ]
  },
  {
   "cell_type": "code",
   "execution_count": 22,
   "metadata": {},
   "outputs": [
    {
     "data": {
      "image/png": "[encoded data removed]",
      "text/plain": [
       "<Figure size 432x288 with 1 Axes>"
      ]
     },
     "metadata": {
      "needs_background": "light"
     },
     "output_type": "display_data"
    }
   ],
   "source": [
    "fig, ax = plt.subplots()\n",
    "ax.set_title(\"Increase in mean Fortune 500 company profits from 1955 to 2005\")\n",
    "ax.set_ylabel(\"Profit (millions)\")\n",
    "ax.plot(x, y1)\n",
    "ax.margins(x=0, y=0)"
   ]
  },
  {
   "cell_type": "code",
   "execution_count": 23,
   "metadata": {},
   "outputs": [
    {
     "data": {
      "image/png": "[encoded data removed]",
      "text/plain": [
       "<Figure size 432x288 with 1 Axes>"
      ]
     },
     "metadata": {
      "needs_background": "light"
     },
     "output_type": "display_data"
    }
   ],
   "source": [
    "fig, ax = plt.subplots()\n",
    "ax.set_title(\"Increase in mean Fortune 500 company revenue from 1955 to 2005\")\n",
    "ax.set_ylabel(\"Revenue (millions)\")\n",
    "ax.plot(x, y2)\n",
    "ax.margins(x=0, y=0)"
   ]
  },
  {
   "cell_type": "code",
   "execution_count": 24,
   "metadata": {},
   "outputs": [
    {
     "data": {
      "image/png": "[encoded data removed]",
      "text/plain": [
       "<Figure size 1008x288 with 2 Axes>"
      ]
     },
     "metadata": {
      "needs_background": "light"
     },
     "output_type": "display_data"
    }
   ],
   "source": [
    "stds1 = group_by_year.std().profit.values\n",
    "stds2 = group_by_year.std().revenue.values\n",
    "# set up the figure\n",
    "fig, (ax1, ax2) = plt.subplots(ncols=2)\n",
    "title = 'Increase in mean and std Fortune 500 company %s from 1955 to 2005'\n",
    "fig.set_size_inches(14, 4)\n",
    "fig.tight_layout(w_pad=5, h_pad=1.0)\n",
    "# set up the subplots\n",
    "ax1.plot(x, y1)\n",
    "ax2.plot(x, y2)\n",
    "ax1.fill_between(x, y1.values - stds1, y1.values + stds1, alpha=0.2)\n",
    "ax2.fill_between(x, y2.values - stds2, y2.values + stds2, alpha=0.2)\n",
    "ax1.set_title(title % 'profits')\n",
    "ax2.set_title(title % 'revenues')\n",
    "ax1.set_ylabel(\"Profit (millions)\")\n",
    "ax2.set_ylabel(\"Revenue (millions)\")\n",
    "ax1.margins(x=0, y=0)\n",
    "ax2.margins(x=0, y=0)\n",
    "ax1.grid(True)\n",
    "ax2.grid(True)"
   ]
  },
  {
   "cell_type": "markdown",
   "metadata": {},
   "source": [
    "## Ploting with plotly"
   ]
  },
  {
   "cell_type": "markdown",
   "metadata": {},
   "source": [
    "# to list installed python modules:\n",
    "pydoc modules\n",
    "\n",
    "##to install modules in my home directotry:\n",
    "\n",
    "pip install --user <module_name>"
   ]
  },
  {
   "cell_type": "code",
   "execution_count": 25,
   "metadata": {},
   "outputs": [
    {
     "ename": "ModuleNotFoundError",
     "evalue": "No module named 'plotly'",
     "output_type": "error",
     "traceback": [
      "\u001b[1;31m---------------------------------------------------------------------------\u001b[0m",
      "\u001b[1;31mModuleNotFoundError\u001b[0m                       Traceback (most recent call last)",
      "\u001b[1;32m<ipython-input-25-6361d2547ebc>\u001b[0m in \u001b[0;36m<module>\u001b[1;34m\u001b[0m\n\u001b[1;32m----> 1\u001b[1;33m \u001b[1;32mimport\u001b[0m \u001b[0mplotly\u001b[0m\u001b[1;33m\u001b[0m\u001b[1;33m\u001b[0m\u001b[0m\n\u001b[0m",
      "\u001b[1;31mModuleNotFoundError\u001b[0m: No module named 'plotly'"
     ]
    }
   ],
   "source": [
    "import plotly"
   ]
  },
  {
   "cell_type": "code",
   "execution_count": null,
   "metadata": {},
   "outputs": [],
   "source": [
    "import plotly.graph_objects as go\n",
    "from plotly.subplots import make_subplots"
   ]
  },
  {
   "cell_type": "code",
   "execution_count": null,
   "metadata": {},
   "outputs": [],
   "source": [
    "#df_avgs = pd.DataFrame(list(zip(x,y1,y2)),columns=[\"x\",\"y1\",\"y2\"])\n",
    "#labels = x[:10]\n",
    "fig = make_subplots(rows=1, cols=2)\n",
    "fig.add_trace(go.Scatter(x = x[:10], y = y1[:10], name=\"Profits\"),row=1, col=1)\n",
    "fig.add_trace(go.Scatter(x = x[:10], y = y2[:10], name=\"Revenues\"),row=1, col=2)\n",
    "#fig.add_trace(go.Pie(labels=labels, values=y2[:10], name=\"revenues\"),1, 2)\n",
    "fig.update_layout(title_text='increase in 500 companies profit and revenue')"
   ]
  },
  {
   "cell_type": "code",
   "execution_count": null,
   "metadata": {},
   "outputs": [],
   "source": [
    "fig2 = make_subplots(rows=2, cols=1, shared_xaxes=True, vertical_spacing=0.02)\n",
    "fig2.add_trace(go.Scatter(x = x[:10], y = y1[:10], name=\"Profits\"),row=1, col=1)\n",
    "fig2.add_trace(go.Scatter(x = x[:10], y = y2[:10], name=\"Revenues\"),row=2, col=1)\n"
   ]
  },
  {
   "cell_type": "code",
   "execution_count": null,
   "metadata": {},
   "outputs": [],
   "source": [
    "fig3 = make_subplots(rows=1, cols=2, shared_xaxes=True)\n",
    "fig3.add_trace(go.Bar(x = x[:10], y = y1[:10], name=\"Profits\"),row=1, col=1)\n",
    "fig3.add_trace(go.Bar(x = x[:10], y = y2[:10], name=\"Revenues\"),row=1, col=2)"
   ]
  },
  {
   "cell_type": "code",
   "execution_count": null,
   "metadata": {},
   "outputs": [],
   "source": [
    "df['company'].head()"
   ]
  },
  {
   "cell_type": "code",
   "execution_count": null,
   "metadata": {},
   "outputs": [],
   "source": [
    "df['company'][0]"
   ]
  },
  {
   "cell_type": "code",
   "execution_count": null,
   "metadata": {},
   "outputs": [],
   "source": [
    "GenMot_exx = df.loc[(df['company']=='General Motors') | (df['company']== \"Exxon Mobil\")]"
   ]
  },
  {
   "cell_type": "code",
   "execution_count": null,
   "metadata": {},
   "outputs": [],
   "source": [
    "GenMot_exx.tail()"
   ]
  },
  {
   "cell_type": "code",
   "execution_count": null,
   "metadata": {},
   "outputs": [],
   "source": [
    "fig = go.Figure(data=[go.Pie(labels=GenMot_exx.loc[GenMot_exx['year']==2005,'company'],\n",
    "                             values=GenMot_exx.loc[GenMot_exx['year']==2005,'profit'])])\n",
    "fig.show()"
   ]
  },
  {
   "cell_type": "code",
   "execution_count": null,
   "metadata": {},
   "outputs": [],
   "source": [
    "fig = go.Figure(data=[go.Bar(x=GenMot_exx.loc[GenMot_exx['year']==2005,'company'],\n",
    "                             y=GenMot_exx.loc[GenMot_exx['year']==2005,'profit'], marker_color=\"green\", width=0.2)])\n",
    "fig.show()"
   ]
  },
  {
   "cell_type": "code",
   "execution_count": null,
   "metadata": {},
   "outputs": [],
   "source": [
    "lables = ['2004','2005']\n",
    "profit_EM = GenMot_exx.loc[(GenMot_exx['company']=='Exxon Mobil')&\n",
    "                           ((GenMot_exx['year']==2004)|(GenMot_exx['year']==2005)),\"profit\"]\n",
    "profit_GM = GenMot_exx.loc[(GenMot_exx['company']=='General Motors')&\n",
    "                           ((GenMot_exx['year']==2004)|(GenMot_exx['year']==2005)),\"profit\"]\n",
    "print(profit_EM)\n",
    "print(profit_GM)\n",
    "fig = go.Figure(data=[go.Bar(x=lables, y=profit_EM, width=0.1, name=\"EM\"), \n",
    "                      go.Bar(x=lables, y=profit_GM, width=0.1, name=\"GM\")])\n",
    "fig.update_layout(barmode='group',\n",
    "                  bargap=0.75, # gap between bars of adjacent location coordinates.\n",
    "                  bargroupgap=0.1, # gap between bars of the same location coordinate.\n",
    "                  xaxis_tickangle=-45)\n"
   ]
  },
  {
   "cell_type": "code",
   "execution_count": null,
   "metadata": {},
   "outputs": [],
   "source": [
    "fig = go.Figure()\n",
    "fig.add_trace(go.Bar(x=lables, y=profit_EM, name=\"EM\", marker_color=\"gray\", width=0.2))\n",
    "fig.add_trace(go.Bar(x=lables, y=profit_GM, name=\"GM\", marker_color=\"green\", width=0.2))\n",
    "fig.update_layout(barmode='stack', xaxis_tickangle=-45)"
   ]
  },
  {
   "cell_type": "code",
   "execution_count": null,
   "metadata": {},
   "outputs": [],
   "source": [
    "GenMot_exx['company_code'] = [1 if x==\"Exxon Mobil\" else 2 for x in GenMot_exx['company']]\n",
    "#print(GenMot_exx['company_code'])\n",
    "fig = go.Figure(data=\n",
    "    go.Parcoords(\n",
    "        line_color='blue',\n",
    "        dimensions = list([\n",
    "            dict(range = [1955,2005],\n",
    "                 constraintrange = [2000,2005], # change this range by dragging the pink line\n",
    "                 label = 'Year', values = GenMot_exx['year']),\n",
    "            dict(range = [GenMot_exx['rank'].min(),GenMot_exx['rank'].max()],\n",
    "                 tickvals = GenMot_exx['rank'].unique(),\n",
    "                 label = 'Rank', values = GenMot_exx['rank']),\n",
    "            dict(range = [1,2],\n",
    "                 tickvals = [1,2],\n",
    "                 label = 'Company', values = GenMot_exx['company_code'],\n",
    "                 ticktext = GenMot_exx['company'].unique()\n",
    "                 ),\n",
    "            dict(range = [GenMot_exx['profit'].min(),GenMot_exx['profit'].max()],\n",
    "                 label = 'Profit', values = GenMot_exx['profit']),\n",
    "            \n",
    "        ])\n",
    "    )\n",
    ")\n",
    "fig.show()"
   ]
  },
  {
   "cell_type": "code",
   "execution_count": null,
   "metadata": {},
   "outputs": [],
   "source": [
    "!pip install --upgrade bokeh"
   ]
  },
  {
   "cell_type": "raw",
   "metadata": {},
   "source": []
  },
  {
   "cell_type": "code",
   "execution_count": null,
   "metadata": {},
   "outputs": [],
   "source": [
    "from bokeh.io import show, output_notebook, curdoc\n",
    "from bokeh.plotting import figure\n",
    "from ipywidgets import interact\n",
    "from bokeh.layouts import row, column, widgetbox\n",
    "from bokeh.models import ColumnDataSource\n",
    "from bokeh.models.widgets import Slider, TextInput, Button, Paragraph, Select\n",
    "\n",
    "output_notebook()\n",
    "\n"
   ]
  },
  {
   "cell_type": "code",
   "execution_count": null,
   "metadata": {},
   "outputs": [],
   "source": [
    "def modify_doc(doc):\n",
    "    \n",
    "    # create some widgets\n",
    "    button = Button(label=\"Say HI\")\n",
    "    input = TextInput(value=\"Bokeh\")\n",
    "    output = Paragraph()\n",
    "\n",
    "    # add a callback to a widget\n",
    "    def update():\n",
    "        output.text = \"Hello, \" + input.value\n",
    "    button.on_click(update)\n",
    "\n",
    "    # create a layout for everything\n",
    "    layout = column(button, input, output)\n",
    "\n",
    "    # add the layout to curdoc\n",
    "    doc.add_root(layout)\n",
    "    \n",
    "# In the notebook, just pass the function that defines the app to show\n",
    "# You may need to supply notebook_url, e.g notebook_url=\"http://localhost:8889\" \n",
    "show(modify_doc)#, notebook_url=\"http://localhost:8889\") "
   ]
  },
  {
   "cell_type": "code",
   "execution_count": null,
   "metadata": {},
   "outputs": [],
   "source": [
    "N = 200\n",
    "xspace = np.linspace(0, 4*np.pi, N)\n",
    "yfun = np.sin(x)\n",
    "\n",
    "def modify_doc(doc):\n",
    "    \n",
    "    dtsource = ColumnDataSource(data=dict(x=xspace, y=yfun))\n",
    "\n",
    "    # Slidert up plot\n",
    "    plot = figure(plot_height=400, plot_width=400, title=\"my sine wave\",\n",
    "              tools=\"crosshair,pan,reset,save,wheel_zoom\",\n",
    "              x_range=[0, 4*np.pi], y_range=[-2.5, 2.5])\n",
    "\n",
    "    plot.line(x='x', y='y', source=dtsource, line_width=3, line_alpha=0.6)\n",
    "\n",
    "\n",
    "    # Set up widgets\n",
    "    text = TextInput(title=\"title\", value='my sine wave')\n",
    "    offset = Slider(title=\"offset\", value=0.0, start=-5.0, end=5.0, step=0.1)\n",
    "    amplitude = Slider(title=\"amplitude\", value=1.0, start=-5.0, end=5.0, step=0.1)\n",
    "    phase = Slider(title=\"phase\", value=0.0, start=0.0, end=2*np.pi)\n",
    "    freq = Slider(title=\"frequency\", value=1.0, start=0.1, end=5.1, step=0.1)\n",
    "\n",
    "\n",
    "    # Set up callbacks\n",
    "    def update_title(attrname, old, new):\n",
    "        plot.title.text = text.value\n",
    "\n",
    "    text.on_change('value', update_title)\n",
    "\n",
    "    def update_data(attrname, old, new):\n",
    "\n",
    "        # Get the current slider values\n",
    "        a = amplitude.value\n",
    "        b = offset.value\n",
    "        w = phase.value\n",
    "        k = freq.value\n",
    "\n",
    "        # Generate the new curve\n",
    "        x = np.linspace(0, 4*np.pi, N)\n",
    "        y = a*np.sin(k*x + w) + b\n",
    "\n",
    "        dtsource.data = dict(x=x, y=y)\n",
    "\n",
    "    for w in [offset, amplitude, phase, freq]:\n",
    "        w.on_change('value', update_data)\n",
    "\n",
    "\n",
    "    # Set up layouts and add to document\n",
    "    inputs = widgetbox(text, offset, amplitude, phase, freq)\n",
    "    layout = row(inputs,plot, width=800)\n",
    "    doc.add_root(layout)\n",
    "#curdoc().add_root(row(inputs, plot, width=800)) #(layout)#\n",
    "#curdoc().title = \"Sliders\"\n",
    "show(modify_doc)"
   ]
  },
  {
   "cell_type": "code",
   "execution_count": null,
   "metadata": {},
   "outputs": [],
   "source": [
    "def modify_doc(doc):\n",
    "    dfsource = ColumnDataSource(data=dict(\n",
    "                                        year=df['year'],\n",
    "                                        profit=df['profit'],\n",
    "                                        rank=df['rank'],\n",
    "                                        company=df['company'],\n",
    "                                        revenue=df['revenue']))\n",
    "    x = avgs.index\n",
    "    source = ColumnDataSource(data=dict(\n",
    "                                       x=x,\n",
    "                                       y1=y1,\n",
    "                                       y2=y2))\n",
    "    TOOLS = 'tap'\n",
    "    \"\"\"\"plot = figure(plot_width=1300, plot_height=900, tools=TOOLS, toolbar_location=None, title='Profit')\n",
    "    plot.circle(x='year', y='profit', size=5, color='blue', legend_label='company', source=source,\n",
    "                  hover_fill_color=\"black\",\n",
    "                  fill_alpha=0.7, hover_alpha=1,\n",
    "                  line_color=None, hover_line_color=\"white\") #fill_color=\"blue\"\n",
    "    plot.line(x='year', y='profit', source=source, line_dash=\"4 4\", line_width=1, color='gray')\"\"\"\"\"\n",
    "    \n",
    "    \n",
    "    plot = figure(plot_width=600, plot_height=500, tools=TOOLS, toolbar_location=None, title='Profit')\n",
    "    \n",
    "    plot.circle(x='x', y='y1', size=5, color='green', source=source,\n",
    "                  hover_fill_color=\"black\",\n",
    "                  fill_alpha=0.7, hover_alpha=1,\n",
    "                  line_color=None, hover_line_color=\"white\") #fill_color=\"blue\"\n",
    "    \n",
    "    plot.line(x='x', y='y1', source=source, line_dash=\"4 4\", line_width=1, color='gray')\n",
    "    \n",
    "    \n",
    "    plot2 = figure(plot_width=600, plot_height=500, tools=TOOLS, toolbar_location=None, title='Revenu')\n",
    "    \n",
    "    plot2.circle(x='x', y='y2', size=5, color='green', source=source,\n",
    "                  hover_fill_color=\"black\",\n",
    "                  fill_alpha=0.7, hover_alpha=1,\n",
    "                  line_color=None, hover_line_color=\"white\") #fill_color=\"blue\"\n",
    "    \n",
    "    plot2.line(x='x', y='y2', source=source, line_dash=\"4 4\", line_width=1, color='gray')\n",
    "    \n",
    "    \n",
    "    #plot.line(x='x', y='y2', source=source, line_width=1.5, color='blue')\n",
    "    \n",
    "    # Set up widgets\n",
    "    text = TextInput(title=\"Title\", value='Profit')\n",
    "    select = Select(title=\"Index\", value=\"50\", options=[\"10\", \"20\", \"30\", \"40\", \"50\"])\n",
    "\n",
    "\n",
    "    # Set up callbacks\n",
    "    def update_title(attrname, old, new):\n",
    "        plot.title.text = text.value\n",
    "\n",
    "    text.on_change('value', update_title)\n",
    "\n",
    "    def update_data(attrname, old, new):\n",
    "\n",
    "        # Get the current select value\n",
    "        a = select.value\n",
    "        # Generate the new source\n",
    "        xsubset = x[:int(a)]\n",
    "        y1subset = y1[:int(a)]\n",
    "        y2subset = y2[:int(a)]\n",
    "        \n",
    "        source.data = dict(x=xsubset, y1=y1subset, y2=y2subset)\n",
    "\n",
    "    select.on_change('value', update_data)\n",
    "\n",
    "\n",
    "    # Set up layouts and add to document\n",
    "    inputs = widgetbox(text, select)\n",
    "    layout = row(inputs,plot,plot2, width=700)\n",
    "    doc.add_root(layout)\n",
    "\n",
    "show(modify_doc)"
   ]
  },
  {
   "cell_type": "code",
   "execution_count": null,
   "metadata": {},
   "outputs": [],
   "source": []
  }
 ],
 "metadata": {
  "kernelspec": {
   "display_name": "Python 3",
   "language": "python",
   "name": "python3"
  },
  "language_info": {
   "codemirror_mode": {
    "name": "ipython",
    "version": 3
   },
   "file_extension": ".py",
   "mimetype": "text/x-python",
   "name": "python",
   "nbconvert_exporter": "python",
   "pygments_lexer": "ipython3",
   "version": "3.7.4"
  }
 },
 "nbformat": 4,
 "nbformat_minor": 1
}
